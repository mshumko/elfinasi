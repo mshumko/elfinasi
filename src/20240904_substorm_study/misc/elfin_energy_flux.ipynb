{
 "cells": [
  {
   "cell_type": "markdown",
   "metadata": {},
   "source": [
    "# How much did the $>50$ keV electrons contribute to the atmospheric energy flux?"
   ]
  },
  {
   "cell_type": "code",
   "execution_count": 89,
   "metadata": {},
   "outputs": [],
   "source": [
    "import string\n",
    "\n",
    "import matplotlib.pyplot as plt\n",
    "from mpl_toolkits.axes_grid1.axes_divider import make_axes_locatable\n",
    "import matplotlib.colors\n",
    "import numpy as np\n",
    "import pandas as pd\n",
    "\n",
    "import elfinasi"
   ]
  },
  {
   "cell_type": "code",
   "execution_count": 2,
   "metadata": {},
   "outputs": [],
   "source": [
    "time_range = ('2022-09-04T04:18:00', '2022-09-04T04:23:00')\n",
    "kev_erg_factor = 1.6E-9  # The conversion factor from KeV to ergs.\n",
    "precipitation_solid_angle = 2*np.pi"
   ]
  },
  {
   "cell_type": "markdown",
   "metadata": {},
   "source": [
    "## Load ELFIN data and ASI inversion"
   ]
  },
  {
   "cell_type": "code",
   "execution_count": 25,
   "metadata": {},
   "outputs": [
    {
     "name": "stderr",
     "output_type": "stream",
     "text": [
      "C:\\Users\\shumkms1\\Documents\\research\\elfinasi\\src\\elfinasi\\elfin.py:839: UserWarning: The BLC/DLC ratios are all NaNs. This could be due to the lc_exclusion_angle excluding all pitch angles sampled.\n",
      "  warnings.warn(\n"
     ]
    }
   ],
   "source": [
    "pad_obj_eflux = elfinasi.EPD_PAD(\n",
    "    'a', time_range, start_pa=0, min_counts=None, accumulate=1, spin_time_tol=(2.5, 12),\n",
    "    lc_exclusion_angle=10, nflux=False\n",
    ")"
   ]
  },
  {
   "cell_type": "code",
   "execution_count": 42,
   "metadata": {},
   "outputs": [],
   "source": [
    "themis_asi_eflux = pd.read_csv(\n",
    "    elfinasi.data_dir / '20220904_themis_asi_inversion.csv', index_col=0, parse_dates=True, na_values=('NaN', \"-1\")\n",
    ")"
   ]
  },
  {
   "cell_type": "code",
   "execution_count": 43,
   "metadata": {},
   "outputs": [
    {
     "data": {
      "application/vnd.microsoft.datawrangler.viewer.v0+json": {
       "columns": [
        {
         "name": "date/time",
         "rawType": "datetime64[ns]",
         "type": "datetime"
        },
        {
         "name": "PINALat",
         "rawType": "float64",
         "type": "float"
        },
        {
         "name": "GILLlat",
         "rawType": "float64",
         "type": "float"
        },
        {
         "name": "ClosestStation",
         "rawType": "object",
         "type": "string"
        },
        {
         "name": "Elevation [deg]",
         "rawType": "float64",
         "type": "float"
        },
        {
         "name": "ELFINeflux [erg/cm^2/s]",
         "rawType": "float64",
         "type": "float"
        },
        {
         "name": "ELFINenergy [keV]",
         "rawType": "float64",
         "type": "float"
        }
       ],
       "conversionMethod": "pd.DataFrame",
       "ref": "a8bf48d9-8099-48cb-885f-f1971ea35e5f",
       "rows": [
        [
         "2022-09-04 04:17:00",
         "61.1741",
         "67.0371",
         "pina",
         null,
         null,
         null
        ],
        [
         "2022-09-04 04:17:01",
         "61.1741",
         "67.0371",
         "pina",
         null,
         null,
         null
        ],
        [
         "2022-09-04 04:17:02",
         "61.1741",
         "67.0371",
         "pina",
         null,
         null,
         null
        ],
        [
         "2022-09-04 04:17:03",
         "61.1741",
         "67.0371",
         "pina",
         null,
         null,
         null
        ],
        [
         "2022-09-04 04:17:04",
         "61.1741",
         "67.0371",
         "pina",
         null,
         null,
         null
        ],
        [
         "2022-09-04 04:17:05",
         "61.1741",
         "67.0371",
         "pina",
         null,
         null,
         null
        ],
        [
         "2022-09-04 04:17:06",
         "61.1741",
         "67.0371",
         "pina",
         null,
         null,
         null
        ],
        [
         "2022-09-04 04:17:07",
         "61.1741",
         "67.0371",
         "pina",
         null,
         null,
         null
        ],
        [
         "2022-09-04 04:17:08",
         "61.1741",
         "67.0371",
         "pina",
         null,
         null,
         null
        ],
        [
         "2022-09-04 04:17:09",
         "61.1741",
         "67.0371",
         "pina",
         null,
         null,
         null
        ],
        [
         "2022-09-04 04:17:10",
         "61.1741",
         "67.0371",
         "pina",
         null,
         null,
         null
        ],
        [
         "2022-09-04 04:17:11",
         "61.1741",
         "67.0371",
         "pina",
         null,
         null,
         null
        ],
        [
         "2022-09-04 04:17:12",
         "61.1741",
         "67.0371",
         "pina",
         null,
         null,
         null
        ],
        [
         "2022-09-04 04:17:13",
         "61.1741",
         "67.0371",
         "pina",
         null,
         null,
         null
        ],
        [
         "2022-09-04 04:17:14",
         "61.1741",
         "67.0371",
         "pina",
         null,
         null,
         null
        ],
        [
         "2022-09-04 04:17:15",
         "61.1741",
         "67.0371",
         "pina",
         null,
         null,
         null
        ],
        [
         "2022-09-04 04:17:16",
         "61.1741",
         "67.0371",
         "pina",
         null,
         null,
         null
        ],
        [
         "2022-09-04 04:17:17",
         "61.1741",
         "67.0371",
         "pina",
         null,
         null,
         null
        ],
        [
         "2022-09-04 04:17:18",
         "61.1741",
         "67.0371",
         "pina",
         null,
         null,
         null
        ],
        [
         "2022-09-04 04:17:19",
         "61.1741",
         "67.0371",
         "pina",
         null,
         null,
         null
        ],
        [
         "2022-09-04 04:17:20",
         "61.1741",
         "67.0371",
         "pina",
         null,
         null,
         null
        ],
        [
         "2022-09-04 04:17:21",
         "61.1741",
         "67.0371",
         "pina",
         null,
         null,
         null
        ],
        [
         "2022-09-04 04:17:22",
         "61.1741",
         "67.0371",
         "pina",
         null,
         null,
         null
        ],
        [
         "2022-09-04 04:17:23",
         "61.1741",
         "67.0371",
         "pina",
         null,
         null,
         null
        ],
        [
         "2022-09-04 04:17:24",
         "61.1741",
         "67.0371",
         "pina",
         null,
         null,
         null
        ],
        [
         "2022-09-04 04:17:25",
         "61.1741",
         "67.0371",
         "pina",
         null,
         null,
         null
        ],
        [
         "2022-09-04 04:17:26",
         "61.1741",
         "67.0371",
         "pina",
         null,
         null,
         null
        ],
        [
         "2022-09-04 04:17:27",
         "61.1741",
         "67.0371",
         "pina",
         null,
         null,
         null
        ],
        [
         "2022-09-04 04:17:28",
         "61.1741",
         "66.8476",
         "pina",
         null,
         null,
         null
        ],
        [
         "2022-09-04 04:17:29",
         "61.1741",
         "66.8476",
         "pina",
         null,
         null,
         null
        ],
        [
         "2022-09-04 04:17:30",
         "61.1741",
         "66.6536",
         "pina",
         null,
         null,
         null
        ],
        [
         "2022-09-04 04:17:31",
         "61.1741",
         "66.6536",
         "pina",
         null,
         null,
         null
        ],
        [
         "2022-09-04 04:17:32",
         "61.1741",
         "66.6536",
         "pina",
         null,
         null,
         null
        ],
        [
         "2022-09-04 04:17:33",
         "61.1741",
         "66.6536",
         "pina",
         null,
         null,
         null
        ],
        [
         "2022-09-04 04:17:34",
         "61.1741",
         "66.6536",
         "pina",
         null,
         null,
         null
        ],
        [
         "2022-09-04 04:17:35",
         "61.1741",
         "66.3098",
         "pina",
         null,
         null,
         null
        ],
        [
         "2022-09-04 04:17:36",
         "61.1741",
         "66.3098",
         "pina",
         null,
         null,
         null
        ],
        [
         "2022-09-04 04:17:37",
         "61.1741",
         "66.3098",
         "pina",
         null,
         null,
         null
        ],
        [
         "2022-09-04 04:17:38",
         "61.1741",
         "66.3098",
         "pina",
         null,
         null,
         null
        ],
        [
         "2022-09-04 04:17:39",
         "61.1741",
         "66.3098",
         "pina",
         null,
         null,
         null
        ],
        [
         "2022-09-04 04:17:40",
         "61.1741",
         "66.1187",
         "pina",
         null,
         null,
         null
        ],
        [
         "2022-09-04 04:17:41",
         "61.1741",
         "66.1187",
         "pina",
         null,
         null,
         null
        ],
        [
         "2022-09-04 04:17:42",
         "61.1741",
         "66.1187",
         "pina",
         null,
         null,
         null
        ],
        [
         "2022-09-04 04:17:43",
         "61.1741",
         "65.8075",
         "pina",
         null,
         null,
         null
        ],
        [
         "2022-09-04 04:17:44",
         "61.1741",
         "65.8075",
         "pina",
         null,
         null,
         null
        ],
        [
         "2022-09-04 04:17:45",
         "61.1741",
         "65.8075",
         "pina",
         null,
         null,
         null
        ],
        [
         "2022-09-04 04:17:46",
         "61.1741",
         "65.8075",
         "pina",
         null,
         null,
         null
        ],
        [
         "2022-09-04 04:17:47",
         "61.1741",
         "65.8075",
         "pina",
         null,
         null,
         null
        ],
        [
         "2022-09-04 04:17:48",
         "61.1741",
         "65.5307",
         "pina",
         null,
         null,
         null
        ],
        [
         "2022-09-04 04:17:49",
         "61.1741",
         "65.5307",
         "pina",
         null,
         null,
         null
        ]
       ],
       "shape": {
        "columns": 6,
        "rows": 421
       }
      },
      "text/html": [
       "<div>\n",
       "<style scoped>\n",
       "    .dataframe tbody tr th:only-of-type {\n",
       "        vertical-align: middle;\n",
       "    }\n",
       "\n",
       "    .dataframe tbody tr th {\n",
       "        vertical-align: top;\n",
       "    }\n",
       "\n",
       "    .dataframe thead th {\n",
       "        text-align: right;\n",
       "    }\n",
       "</style>\n",
       "<table border=\"1\" class=\"dataframe\">\n",
       "  <thead>\n",
       "    <tr style=\"text-align: right;\">\n",
       "      <th></th>\n",
       "      <th>PINALat</th>\n",
       "      <th>GILLlat</th>\n",
       "      <th>ClosestStation</th>\n",
       "      <th>Elevation [deg]</th>\n",
       "      <th>ELFINeflux [erg/cm^2/s]</th>\n",
       "      <th>ELFINenergy [keV]</th>\n",
       "    </tr>\n",
       "    <tr>\n",
       "      <th>date/time</th>\n",
       "      <th></th>\n",
       "      <th></th>\n",
       "      <th></th>\n",
       "      <th></th>\n",
       "      <th></th>\n",
       "      <th></th>\n",
       "    </tr>\n",
       "  </thead>\n",
       "  <tbody>\n",
       "    <tr>\n",
       "      <th>2022-09-04 04:17:00</th>\n",
       "      <td>61.1741</td>\n",
       "      <td>67.0371</td>\n",
       "      <td>pina</td>\n",
       "      <td>NaN</td>\n",
       "      <td>NaN</td>\n",
       "      <td>NaN</td>\n",
       "    </tr>\n",
       "    <tr>\n",
       "      <th>2022-09-04 04:17:01</th>\n",
       "      <td>61.1741</td>\n",
       "      <td>67.0371</td>\n",
       "      <td>pina</td>\n",
       "      <td>NaN</td>\n",
       "      <td>NaN</td>\n",
       "      <td>NaN</td>\n",
       "    </tr>\n",
       "    <tr>\n",
       "      <th>2022-09-04 04:17:02</th>\n",
       "      <td>61.1741</td>\n",
       "      <td>67.0371</td>\n",
       "      <td>pina</td>\n",
       "      <td>NaN</td>\n",
       "      <td>NaN</td>\n",
       "      <td>NaN</td>\n",
       "    </tr>\n",
       "    <tr>\n",
       "      <th>2022-09-04 04:17:03</th>\n",
       "      <td>61.1741</td>\n",
       "      <td>67.0371</td>\n",
       "      <td>pina</td>\n",
       "      <td>NaN</td>\n",
       "      <td>NaN</td>\n",
       "      <td>NaN</td>\n",
       "    </tr>\n",
       "    <tr>\n",
       "      <th>2022-09-04 04:17:04</th>\n",
       "      <td>61.1741</td>\n",
       "      <td>67.0371</td>\n",
       "      <td>pina</td>\n",
       "      <td>NaN</td>\n",
       "      <td>NaN</td>\n",
       "      <td>NaN</td>\n",
       "    </tr>\n",
       "    <tr>\n",
       "      <th>...</th>\n",
       "      <td>...</td>\n",
       "      <td>...</td>\n",
       "      <td>...</td>\n",
       "      <td>...</td>\n",
       "      <td>...</td>\n",
       "      <td>...</td>\n",
       "    </tr>\n",
       "    <tr>\n",
       "      <th>2022-09-04 04:23:56</th>\n",
       "      <td>41.5484</td>\n",
       "      <td>44.8571</td>\n",
       "      <td>gill</td>\n",
       "      <td>NaN</td>\n",
       "      <td>NaN</td>\n",
       "      <td>NaN</td>\n",
       "    </tr>\n",
       "    <tr>\n",
       "      <th>2022-09-04 04:23:57</th>\n",
       "      <td>41.5484</td>\n",
       "      <td>44.8571</td>\n",
       "      <td>gill</td>\n",
       "      <td>NaN</td>\n",
       "      <td>NaN</td>\n",
       "      <td>NaN</td>\n",
       "    </tr>\n",
       "    <tr>\n",
       "      <th>2022-09-04 04:23:58</th>\n",
       "      <td>41.5484</td>\n",
       "      <td>44.8571</td>\n",
       "      <td>gill</td>\n",
       "      <td>NaN</td>\n",
       "      <td>NaN</td>\n",
       "      <td>NaN</td>\n",
       "    </tr>\n",
       "    <tr>\n",
       "      <th>2022-09-04 04:23:59</th>\n",
       "      <td>41.3973</td>\n",
       "      <td>44.8571</td>\n",
       "      <td>gill</td>\n",
       "      <td>NaN</td>\n",
       "      <td>NaN</td>\n",
       "      <td>NaN</td>\n",
       "    </tr>\n",
       "    <tr>\n",
       "      <th>2022-09-04 04:24:00</th>\n",
       "      <td>41.3973</td>\n",
       "      <td>44.8571</td>\n",
       "      <td>gill</td>\n",
       "      <td>NaN</td>\n",
       "      <td>NaN</td>\n",
       "      <td>NaN</td>\n",
       "    </tr>\n",
       "  </tbody>\n",
       "</table>\n",
       "<p>421 rows × 6 columns</p>\n",
       "</div>"
      ],
      "text/plain": [
       "                     PINALat  GILLlat ClosestStation  Elevation [deg]  \\\n",
       "date/time                                                               \n",
       "2022-09-04 04:17:00  61.1741  67.0371           pina              NaN   \n",
       "2022-09-04 04:17:01  61.1741  67.0371           pina              NaN   \n",
       "2022-09-04 04:17:02  61.1741  67.0371           pina              NaN   \n",
       "2022-09-04 04:17:03  61.1741  67.0371           pina              NaN   \n",
       "2022-09-04 04:17:04  61.1741  67.0371           pina              NaN   \n",
       "...                      ...      ...            ...              ...   \n",
       "2022-09-04 04:23:56  41.5484  44.8571           gill              NaN   \n",
       "2022-09-04 04:23:57  41.5484  44.8571           gill              NaN   \n",
       "2022-09-04 04:23:58  41.5484  44.8571           gill              NaN   \n",
       "2022-09-04 04:23:59  41.3973  44.8571           gill              NaN   \n",
       "2022-09-04 04:24:00  41.3973  44.8571           gill              NaN   \n",
       "\n",
       "                     ELFINeflux [erg/cm^2/s]  ELFINenergy [keV]  \n",
       "date/time                                                        \n",
       "2022-09-04 04:17:00                      NaN                NaN  \n",
       "2022-09-04 04:17:01                      NaN                NaN  \n",
       "2022-09-04 04:17:02                      NaN                NaN  \n",
       "2022-09-04 04:17:03                      NaN                NaN  \n",
       "2022-09-04 04:17:04                      NaN                NaN  \n",
       "...                                      ...                ...  \n",
       "2022-09-04 04:23:56                      NaN                NaN  \n",
       "2022-09-04 04:23:57                      NaN                NaN  \n",
       "2022-09-04 04:23:58                      NaN                NaN  \n",
       "2022-09-04 04:23:59                      NaN                NaN  \n",
       "2022-09-04 04:24:00                      NaN                NaN  \n",
       "\n",
       "[421 rows x 6 columns]"
      ]
     },
     "execution_count": 43,
     "metadata": {},
     "output_type": "execute_result"
    }
   ],
   "source": [
    "themis_asi_eflux"
   ]
  },
  {
   "cell_type": "markdown",
   "metadata": {},
   "source": [
    "## Plot the BLC and ABLC energy fluxes\n",
    "Let's compare the amount of energy flux that disspiated in the atmosphere vs made it back out?"
   ]
  },
  {
   "cell_type": "code",
   "execution_count": 5,
   "metadata": {},
   "outputs": [
    {
     "name": "stderr",
     "output_type": "stream",
     "text": [
      "C:\\Users\\shumkms1\\AppData\\Local\\Temp\\ipykernel_32692\\1964764843.py:19: RuntimeWarning: divide by zero encountered in divide\n",
      "  pad_obj_eflux.blc.T/pad_obj_eflux.ablc.T,\n",
      "C:\\Users\\shumkms1\\AppData\\Local\\Temp\\ipykernel_32692\\1964764843.py:19: RuntimeWarning: invalid value encountered in divide\n",
      "  pad_obj_eflux.blc.T/pad_obj_eflux.ablc.T,\n"
     ]
    },
    {
     "data": {
      "image/png": "[encoded data removed]",
      "text/plain": [
       "<Figure size 1000x600 with 5 Axes>"
      ]
     },
     "metadata": {},
     "output_type": "display_data"
    }
   ],
   "source": [
    "fig, ax = plt.subplots(3, 1, sharex=True, figsize=(10, 6))\n",
    "p = ax[0].pcolormesh(\n",
    "            pad_obj_eflux.pad.time, \n",
    "            pad_obj_eflux.energy, \n",
    "            pad_obj_eflux.blc.T,\n",
    "            shading='nearest',\n",
    "            norm=matplotlib.colors.LogNorm(vmin=1E2, vmax=1E9)\n",
    "            )\n",
    "p2 = ax[1].pcolormesh(\n",
    "            pad_obj_eflux.pad.time, \n",
    "            pad_obj_eflux.energy, \n",
    "            pad_obj_eflux.ablc.T,\n",
    "            shading='nearest',\n",
    "            norm=matplotlib.colors.LogNorm(vmin=1E2, vmax=1E9)\n",
    "            )\n",
    "p3 = ax[2].pcolormesh(\n",
    "            pad_obj_eflux.pad.time, \n",
    "            pad_obj_eflux.energy, \n",
    "            pad_obj_eflux.blc.T/pad_obj_eflux.ablc.T,\n",
    "            shading='nearest',\n",
    "            norm=matplotlib.colors.LogNorm(vmax=10**2)\n",
    "            )\n",
    "\n",
    "pad_obj_eflux.plot_position(ax[-1])\n",
    "\n",
    "labels = ('BLC Eflux', 'ABLC Eflux', 'BLC/ABLC Eflux ratio')\n",
    "for ax_i, label in zip(ax, labels):\n",
    "    ax_i.set_yscale('log')\n",
    "    ax_i.set_ylabel('Energy [keV]')\n",
    "    _text = ax_i.text(0.01, 0.99, label, transform=ax_i.transAxes, va='top')\n",
    "    _text.set_bbox(dict(facecolor='white', linewidth=0, pad=0.1, edgecolor='k'))\n",
    "\n",
    "fig.subplots_adjust(left=0.25, right=0.8)\n",
    "cbar_ax0 = fig.add_axes([0.85, 0.5, 0.02, 0.3])\n",
    "cbar_ax1 = fig.add_axes([0.85, 0.1, 0.02, 0.3])\n",
    "fig.colorbar(p, cax=cbar_ax0, label=pad_obj_eflux._flux_units)\n",
    "fig.colorbar(p3, cax=cbar_ax1, label='BLC/ABLC')\n",
    "\n",
    "ax[-1].xaxis.set_major_locator(plt.MaxNLocator(7))\n",
    "ax[-1].xaxis.set_label_coords(-0.04, -0.007*7)\n",
    "ax[-1].xaxis.label.set_size(10)\n"
   ]
  },
  {
   "cell_type": "markdown",
   "metadata": {},
   "source": [
    "$>10$x of the $>50$ keV energy flux was dissipated in the atmosphere. In other words, less than 10% of the energy flux made it back out."
   ]
  },
  {
   "cell_type": "markdown",
   "metadata": {},
   "source": [
    "## What was the $>50 keV$ energy flux that ELFIN observed"
   ]
  },
  {
   "cell_type": "code",
   "execution_count": 7,
   "metadata": {},
   "outputs": [],
   "source": [
    "energy_widths_mev = (pad_obj_eflux.energy_widths[:, 1]-pad_obj_eflux.energy_widths[:, 0])/1E3\n",
    "eflux_ergs = kev_erg_factor*precipitation_solid_angle*(pad_obj_eflux.blc - pad_obj_eflux.ablc)*energy_widths_mev\n",
    "relativistic_eflux = np.nansum(eflux_ergs, axis=1)"
   ]
  },
  {
   "cell_type": "code",
   "execution_count": 8,
   "metadata": {},
   "outputs": [
    {
     "data": {
      "text/plain": [
       "(array([3., 2., 4., 3., 1., 0., 1., 1., 0.]),\n",
       " array([ 1.        ,  1.46779927,  2.15443469,  3.16227766,  4.64158883,\n",
       "         6.81292069, 10.        , 14.67799268, 21.5443469 , 31.6227766 ]),\n",
       " [<matplotlib.patches.Polygon at 0x28a16bbdd50>])"
      ]
     },
     "execution_count": 8,
     "metadata": {},
     "output_type": "execute_result"
    },
    {
     "data": {
      "image/png": "[encoded data removed]",
      "text/plain": [
       "<Figure size 640x480 with 1 Axes>"
      ]
     },
     "metadata": {},
     "output_type": "display_data"
    }
   ],
   "source": [
    "plt.hist(relativistic_eflux, bins=np.logspace(0, 1.5, 10), histtype='step', color='k')"
   ]
  },
  {
   "cell_type": "code",
   "execution_count": 72,
   "metadata": {},
   "outputs": [],
   "source": [
    "elfin_eflux = pd.DataFrame(relativistic_eflux, index=pad_obj_eflux.pad.time, columns=['energetic'])\n",
    "auroral_eflux = pd.DataFrame(themis_asi_eflux['ELFINeflux [erg/cm^2/s]']).rename(columns={'ELFINeflux [erg/cm^2/s]':'auroral'})\n",
    "\n",
    "merged_eflux = pd.merge_asof(\n",
    "    elfin_eflux, \n",
    "    auroral_eflux, \n",
    "    left_index=True, \n",
    "    right_index=True, \n",
    "    direction='nearest', \n",
    "    tolerance=pd.Timedelta('1s')\n",
    "    )\n",
    "merged_eflux['energetic_contribution'] = 100*merged_eflux['energetic']/(merged_eflux['auroral'] + merged_eflux['energetic'])"
   ]
  },
  {
   "cell_type": "code",
   "execution_count": 73,
   "metadata": {},
   "outputs": [
    {
     "data": {
      "application/vnd.microsoft.datawrangler.viewer.v0+json": {
       "columns": [
        {
         "name": "index",
         "rawType": "datetime64[ns]",
         "type": "datetime"
        },
        {
         "name": "energetic",
         "rawType": "float64",
         "type": "float"
        },
        {
         "name": "auroral",
         "rawType": "float64",
         "type": "float"
        },
        {
         "name": "energetic_contribution",
         "rawType": "float64",
         "type": "float"
        }
       ],
       "conversionMethod": "pd.DataFrame",
       "ref": "b6a1b9ea-0bfa-4fc8-b89e-44584bf0228b",
       "rows": [
        [
         "2022-09-04 04:18:01.896945",
         "0.006677600899007168",
         null,
         null
        ],
        [
         "2022-09-04 04:18:04.762952",
         "0.0016893825994246914",
         null,
         null
        ],
        [
         "2022-09-04 04:18:07.659442",
         "0.0019472400345652962",
         null,
         null
        ],
        [
         "2022-09-04 04:18:10.525450",
         "0.0029957692332304928",
         null,
         null
        ],
        [
         "2022-09-04 04:18:13.421940",
         "0.004959694611600767",
         null,
         null
        ],
        [
         "2022-09-04 04:18:16.287947",
         "-0.0014092916880171463",
         null,
         null
        ],
        [
         "2022-09-04 04:18:19.184437",
         "0.002998807305585766",
         null,
         null
        ],
        [
         "2022-09-04 04:18:22.050444",
         "0.002459948136685062",
         null,
         null
        ],
        [
         "2022-09-04 04:18:24.946934",
         "0.004337125800902322",
         null,
         null
        ],
        [
         "2022-09-04 04:18:27.812955",
         "0.002724933879210973",
         null,
         null
        ],
        [
         "2022-09-04 04:18:30.709445",
         "0.0009220870671034672",
         null,
         null
        ],
        [
         "2022-09-04 04:18:33.575453",
         "0.0016575534058588968",
         null,
         null
        ],
        [
         "2022-09-04 04:18:36.450453",
         "0.002228523343629887",
         null,
         null
        ],
        [
         "2022-09-04 04:18:39.346943",
         "0.0042017579675474835",
         null,
         null
        ],
        [
         "2022-09-04 04:18:42.212950",
         "0.004207463613289905",
         null,
         null
        ],
        [
         "2022-09-04 04:18:45.109440",
         "0.0013705687764064682",
         null,
         null
        ],
        [
         "2022-09-04 04:18:47.975447",
         "0.004215076632960933",
         null,
         null
        ],
        [
         "2022-09-04 04:18:50.871937",
         "0.000993992155410352",
         null,
         null
        ],
        [
         "2022-09-04 04:18:53.737944",
         "0.0022847933399524584",
         "0.0442472",
         "4.910155735775735"
        ],
        [
         "2022-09-04 04:18:56.612944",
         "0.0009215859995882162",
         null,
         null
        ],
        [
         "2022-09-04 04:18:59.509448",
         "-0.0047133113094192025",
         "0.091809",
         "-5.411647097899274"
        ],
        [
         "2022-09-04 04:19:02.375441",
         "0.003160678163206175",
         null,
         null
        ],
        [
         "2022-09-04 04:19:05.271945",
         "0.004854015256756359",
         null,
         null
        ],
        [
         "2022-09-04 04:19:08.137953",
         "-0.0014423630636758863",
         null,
         null
        ],
        [
         "2022-09-04 04:19:11.012953",
         "0.00029586940064240405",
         null,
         null
        ],
        [
         "2022-09-04 04:19:13.909442",
         "0.0008948236283373392",
         null,
         null
        ],
        [
         "2022-09-04 04:19:16.775450",
         "-0.001977387833723532",
         null,
         null
        ],
        [
         "2022-09-04 04:19:19.671940",
         "0.0022872714742913952",
         null,
         null
        ],
        [
         "2022-09-04 04:19:22.537947",
         "0.002375453170580803",
         null,
         null
        ],
        [
         "2022-09-04 04:19:25.412947",
         "-3.076553688343667e-05",
         null,
         null
        ],
        [
         "2022-09-04 04:19:28.309437",
         "0.0005800062910519383",
         null,
         null
        ],
        [
         "2022-09-04 04:19:31.175444",
         "0.000967946464106916",
         null,
         null
        ],
        [
         "2022-09-04 04:19:34.050444",
         "0.000300412448079093",
         null,
         null
        ],
        [
         "2022-09-04 04:19:36.946934",
         "-0.001647452516004211",
         null,
         null
        ],
        [
         "2022-09-04 04:19:39.812955",
         "0.0016801168221412394",
         null,
         null
        ],
        [
         "2022-09-04 04:19:42.687941",
         "0.0014871593973652894",
         "0.0506847",
         "2.850501045090971"
        ],
        [
         "2022-09-04 04:19:45.584445",
         "-0.0028734374446196557",
         "0.191217",
         "-1.5256361330506072"
        ],
        [
         "2022-09-04 04:19:48.450453",
         "0.001180181137801965",
         "0.520046",
         "0.22642399413354647"
        ],
        [
         "2022-09-04 04:19:51.325452",
         "0.0011479165263077115",
         "0.464349",
         "0.2466002427843873"
        ],
        [
         "2022-09-04 04:19:54.221942",
         "-0.0008709039623849006",
         "0.233251",
         "-0.3747756271879363"
        ],
        [
         "2022-09-04 04:19:57.087950",
         "0.0014400213893029624",
         "0.303785",
         "0.47179008547476503"
        ],
        [
         "2022-09-04 04:19:59.962950",
         "0.002443981630600986",
         "0.556304",
         "0.4374032141411383"
        ],
        [
         "2022-09-04 04:20:02.859440",
         "0.0024005611897039043",
         "0.929939",
         "0.25747713490143964"
        ],
        [
         "2022-09-04 04:20:05.725447",
         "0.00754170115865536",
         "1.27335",
         "0.5887852307758236"
        ],
        [
         "2022-09-04 04:20:08.600447",
         "0.10939580539675439",
         "1.58122",
         "6.470766749461528"
        ],
        [
         "2022-09-04 04:20:11.496937",
         "0.19418657187043925",
         "1.84855",
         "9.506197448290242"
        ],
        [
         "2022-09-04 04:20:14.362944",
         "6.716873193544801",
         "3.10578",
         "68.38145520559516"
        ],
        [
         "2022-09-04 04:20:17.237944",
         "4.616074710737019",
         "12.3455",
         "27.214894781054443"
        ],
        [
         "2022-09-04 04:20:20.112944",
         "2.9194068693257895",
         "23.3946",
         "11.094497633231748"
        ],
        [
         "2022-09-04 04:20:22.987944",
         "2.231009931025395",
         "28.7537",
         "7.200357647342232"
        ]
       ],
       "shape": {
        "columns": 3,
        "rows": 103
       }
      },
      "text/html": [
       "<div>\n",
       "<style scoped>\n",
       "    .dataframe tbody tr th:only-of-type {\n",
       "        vertical-align: middle;\n",
       "    }\n",
       "\n",
       "    .dataframe tbody tr th {\n",
       "        vertical-align: top;\n",
       "    }\n",
       "\n",
       "    .dataframe thead th {\n",
       "        text-align: right;\n",
       "    }\n",
       "</style>\n",
       "<table border=\"1\" class=\"dataframe\">\n",
       "  <thead>\n",
       "    <tr style=\"text-align: right;\">\n",
       "      <th></th>\n",
       "      <th>energetic</th>\n",
       "      <th>auroral</th>\n",
       "      <th>energetic_contribution</th>\n",
       "    </tr>\n",
       "  </thead>\n",
       "  <tbody>\n",
       "    <tr>\n",
       "      <th>2022-09-04 04:18:01.896945</th>\n",
       "      <td>0.006678</td>\n",
       "      <td>NaN</td>\n",
       "      <td>NaN</td>\n",
       "    </tr>\n",
       "    <tr>\n",
       "      <th>2022-09-04 04:18:04.762952</th>\n",
       "      <td>0.001689</td>\n",
       "      <td>NaN</td>\n",
       "      <td>NaN</td>\n",
       "    </tr>\n",
       "    <tr>\n",
       "      <th>2022-09-04 04:18:07.659442</th>\n",
       "      <td>0.001947</td>\n",
       "      <td>NaN</td>\n",
       "      <td>NaN</td>\n",
       "    </tr>\n",
       "    <tr>\n",
       "      <th>2022-09-04 04:18:10.525450</th>\n",
       "      <td>0.002996</td>\n",
       "      <td>NaN</td>\n",
       "      <td>NaN</td>\n",
       "    </tr>\n",
       "    <tr>\n",
       "      <th>2022-09-04 04:18:13.421940</th>\n",
       "      <td>0.004960</td>\n",
       "      <td>NaN</td>\n",
       "      <td>NaN</td>\n",
       "    </tr>\n",
       "    <tr>\n",
       "      <th>...</th>\n",
       "      <td>...</td>\n",
       "      <td>...</td>\n",
       "      <td>...</td>\n",
       "    </tr>\n",
       "    <tr>\n",
       "      <th>2022-09-04 04:22:44.012952</th>\n",
       "      <td>-0.003151</td>\n",
       "      <td>0.099598</td>\n",
       "      <td>-3.267087</td>\n",
       "    </tr>\n",
       "    <tr>\n",
       "      <th>2022-09-04 04:22:46.887953</th>\n",
       "      <td>0.002618</td>\n",
       "      <td>0.133913</td>\n",
       "      <td>1.917585</td>\n",
       "    </tr>\n",
       "    <tr>\n",
       "      <th>2022-09-04 04:22:49.784443</th>\n",
       "      <td>0.001415</td>\n",
       "      <td>NaN</td>\n",
       "      <td>NaN</td>\n",
       "    </tr>\n",
       "    <tr>\n",
       "      <th>2022-09-04 04:22:52.650450</th>\n",
       "      <td>-0.002075</td>\n",
       "      <td>NaN</td>\n",
       "      <td>NaN</td>\n",
       "    </tr>\n",
       "    <tr>\n",
       "      <th>2022-09-04 04:22:55.525450</th>\n",
       "      <td>-0.000581</td>\n",
       "      <td>NaN</td>\n",
       "      <td>NaN</td>\n",
       "    </tr>\n",
       "  </tbody>\n",
       "</table>\n",
       "<p>103 rows × 3 columns</p>\n",
       "</div>"
      ],
      "text/plain": [
       "                            energetic   auroral  energetic_contribution\n",
       "2022-09-04 04:18:01.896945   0.006678       NaN                     NaN\n",
       "2022-09-04 04:18:04.762952   0.001689       NaN                     NaN\n",
       "2022-09-04 04:18:07.659442   0.001947       NaN                     NaN\n",
       "2022-09-04 04:18:10.525450   0.002996       NaN                     NaN\n",
       "2022-09-04 04:18:13.421940   0.004960       NaN                     NaN\n",
       "...                               ...       ...                     ...\n",
       "2022-09-04 04:22:44.012952  -0.003151  0.099598               -3.267087\n",
       "2022-09-04 04:22:46.887953   0.002618  0.133913                1.917585\n",
       "2022-09-04 04:22:49.784443   0.001415       NaN                     NaN\n",
       "2022-09-04 04:22:52.650450  -0.002075       NaN                     NaN\n",
       "2022-09-04 04:22:55.525450  -0.000581       NaN                     NaN\n",
       "\n",
       "[103 rows x 3 columns]"
      ]
     },
     "execution_count": 73,
     "metadata": {},
     "output_type": "execute_result"
    }
   ],
   "source": [
    "merged_eflux"
   ]
  },
  {
   "cell_type": "code",
   "execution_count": 95,
   "metadata": {},
   "outputs": [
    {
     "data": {
      "text/plain": [
       "count    64.000000\n",
       "mean      8.782846\n",
       "std      13.559804\n",
       "min      -5.727674\n",
       "25%       1.053360\n",
       "50%       4.266172\n",
       "75%      10.810432\n",
       "max      68.381455\n",
       "Name: energetic_contribution, dtype: float64"
      ]
     },
     "execution_count": 95,
     "metadata": {},
     "output_type": "execute_result"
    }
   ],
   "source": [
    "merged_eflux['energetic_contribution'].describe()"
   ]
  },
  {
   "cell_type": "markdown",
   "metadata": {},
   "source": [
    "Note: occasional negative ELFIN Efluxes are a result of the space-time aliasing, with higher fluxes in the ABLC than the BLC."
   ]
  },
  {
   "cell_type": "code",
   "execution_count": 93,
   "metadata": {},
   "outputs": [
    {
     "data": {
      "image/png": "[encoded data removed]",
      "text/plain": [
       "<Figure size 800x600 with 4 Axes>"
      ]
     },
     "metadata": {},
     "output_type": "display_data"
    }
   ],
   "source": [
    "fig, bx = plt.subplots(3, 1, sharex=True, figsize=(8, 6))\n",
    "pad_obj_eflux.plot_omni(bx[0], labels=True, colorbar=True, vmin=1E2, vmax=1E9, pretty_plot=False, fraction=0.05)\n",
    "bx[1].plot(\n",
    "    merged_eflux.index, \n",
    "    merged_eflux['energetic'], \n",
    "    label='>50 keV Eflux (BLC-ABLC)', \n",
    "    color='r', \n",
    "    linestyle='--'\n",
    "    )\n",
    "bx[1].plot(\n",
    "    merged_eflux.index, \n",
    "    merged_eflux['auroral'], \n",
    "    label='THEMIS ASI Eflux', color='k'\n",
    "    )\n",
    "# bx[1].legend(loc='upper left')\n",
    "bx[2].plot(merged_eflux.index, merged_eflux['energetic_contribution'], color='k')\n",
    "pad_obj_eflux.plot_position(bx[-1])\n",
    "bx[-1].xaxis.set_major_locator(plt.MaxNLocator(7))\n",
    "bx[-1].xaxis.set_label_coords(-0.04, -0.007*7)\n",
    "bx[-1].xaxis.label.set_size(10)\n",
    "\n",
    "for bx_i in bx[[1, 2]]:\n",
    "    divider = make_axes_locatable(bx_i)\n",
    "    cax = divider.append_axes(\"right\", size=\"10%\", pad=0.08)\n",
    "    cax.remove()\n",
    "    # bx_i.set_yscale('log')\n",
    "\n",
    "bx[1].set_yscale('log')\n",
    "bx[1].set_ylabel(f'Energy Flux\\n$[ergs/cm^{{2}}s]$')\n",
    "bx[1].set_yticks([1E-2, 1E-1, 1E0, 1E1])\n",
    "bx[1].set_ylim(1E-3, 1E2)\n",
    "\n",
    "bx[2].set_ylabel(f'Percentage')\n",
    "bx[2].set_ylim(0, 1E2)\n",
    "\n",
    "labels = (\n",
    "    'ELFIN Eflux', \n",
    "    'Auroral Eflux (solid-black) vs.\\n>50 keV Eflux (dashed-red)', \n",
    "    '>50 keV electron\\ncontribution to total Eflux'\n",
    "    )\n",
    "for ax_i, label, letter in zip(bx, labels, string.ascii_lowercase):\n",
    "    _text = ax_i.text(0.01, 0.99, f'({letter}) {label}', transform=ax_i.transAxes, va='top')\n",
    "    _text.set_bbox(dict(facecolor='white', linewidth=0, pad=0.1, edgecolor='k'))\n",
    "plt.suptitle('ELFIN-THEMIS ASI Eflux Comparison', fontsize=14)\n",
    "plt.tight_layout()"
   ]
  },
  {
   "cell_type": "markdown",
   "metadata": {},
   "source": [
    "While the plasma sheet energy flux was very low, the IB and radiation belt precipitation contibuted between 1-13 ergs/(cm^2 s). This is not too different from the [Gabrielse+2021](https://doi.org/10.3389/fphy.2021.744298) results (the greem stuff). However, our results are harder to compare with [Newell+2009](https://doi.org/10.1029/2009JA014326), but Newell's bottom panel of Fig. 5 shows a higher diffuse aurora energy flux during active times."
   ]
  },
  {
   "cell_type": "markdown",
   "metadata": {},
   "source": [
    "![Example energy flux estimate from Gabrielse+2021 ](plots/gabrielse_2021_eflux_example.png)"
   ]
  },
  {
   "cell_type": "markdown",
   "metadata": {},
   "source": [
    "How does the $>50$ keV energy flux compare to the auroral energy flux? This seems like a tossup."
   ]
  }
 ],
 "metadata": {
  "kernelspec": {
   "display_name": "asilib_dev_20241108",
   "language": "python",
   "name": "python3"
  },
  "language_info": {
   "codemirror_mode": {
    "name": "ipython",
    "version": 3
   },
   "file_extension": ".py",
   "mimetype": "text/x-python",
   "name": "python",
   "nbconvert_exporter": "python",
   "pygments_lexer": "ipython3",
   "version": "3.11.3"
  }
 },
 "nbformat": 4,
 "nbformat_minor": 2
}
