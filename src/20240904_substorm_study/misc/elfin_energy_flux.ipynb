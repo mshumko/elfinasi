{
 "cells": [
  {
   "cell_type": "markdown",
   "metadata": {},
   "source": [
    "# How much did the $>50$ keV electrons contribute to the atmospheric energy flux?"
   ]
  },
  {
   "cell_type": "code",
   "execution_count": null,
   "metadata": {},
   "outputs": [],
   "source": [
    "import string\n",
    "\n",
    "import matplotlib.pyplot as plt\n",
    "from mpl_toolkits.axes_grid1.axes_divider import make_axes_locatable\n",
    "import matplotlib.colors\n",
    "import numpy as np\n",
    "import pandas as pd\n",
    "import re\n",
    "\n",
    "import elfinasi"
   ]
  },
  {
   "cell_type": "code",
   "execution_count": 2,
   "metadata": {},
   "outputs": [],
   "source": [
    "time_range = ('2022-09-04T04:18:00', '2022-09-04T04:23:00')\n",
    "kev_erg_factor = 1.6E-9  # The conversion factor from KeV to ergs.\n",
    "precipitation_solid_angle = 2*np.pi"
   ]
  },
  {
   "cell_type": "markdown",
   "metadata": {},
   "source": [
    "## Load ELFIN and ASI inversion data"
   ]
  },
  {
   "cell_type": "code",
   "execution_count": 3,
   "metadata": {},
   "outputs": [
    {
     "name": "stderr",
     "output_type": "stream",
     "text": [
      "C:\\Users\\shumkms1\\Documents\\research\\elfinasi\\src\\elfinasi\\elfin.py:839: UserWarning: The BLC/DLC ratios are all NaNs. This could be due to the lc_exclusion_angle excluding all pitch angles sampled.\n",
      "  warnings.warn(\n"
     ]
    }
   ],
   "source": [
    "pad_obj_eflux = elfinasi.EPD_PAD(\n",
    "    'a', time_range, start_pa=0, min_counts=None, accumulate=1, spin_time_tol=(2.5, 12),\n",
    "    lc_exclusion_angle=10, nflux=False\n",
    ")"
   ]
  },
  {
   "cell_type": "markdown",
   "metadata": {},
   "source": [
    "The THEMIS ASI inversion values were derived using the [Gabrielse+2021](https://doi.org/10.3389/fphy.2021.744298) algorithm."
   ]
  },
  {
   "cell_type": "code",
   "execution_count": 6,
   "metadata": {},
   "outputs": [],
   "source": [
    "inversion_dir = elfinasi.data_dir / '20220904_themis_asi_inversion'\n",
    "_file_paths = sorted(inversion_dir.glob('ASIdata*'))"
   ]
  },
  {
   "cell_type": "code",
   "execution_count": 15,
   "metadata": {},
   "outputs": [],
   "source": [
    "header = [\n",
    "    \"date/time\", \n",
    "    \"ELFINLat\", \n",
    "    \"PINALat\", \n",
    "    \"GILLlat\", \n",
    "    \"EFLINLon\", \n",
    "    \"PINALon\", \n",
    "    \"GILLlon\", \n",
    "    \"ClosestStation\", \n",
    "    \"Elevation [deg]\",\n",
    "    \"ELFINeflux [erg/cm^2/s]\", \n",
    "    \"ELFINenergy [keV]\"\n",
    "    ]"
   ]
  },
  {
   "cell_type": "code",
   "execution_count": 18,
   "metadata": {},
   "outputs": [],
   "source": [
    "themis_asi_eflux = pd.read_csv(\n",
    "    elfinasi.data_dir / '20220904_themis_asi_inversion' / 'ASIdataCSV0.csv', \n",
    "    index_col=0, \n",
    "    skiprows=1,  # This is necessary because someone forgot to add \",\"s to the header!\n",
    "    names=header,\n",
    "    parse_dates=True, \n",
    "    na_values=('NaN', \"-1\")\n",
    ")\n",
    "themis_asi_eflux = themis_asi_eflux.loc[themis_asi_eflux['Elevation [deg]'] > 10]  # Christine's suggested threshold"
   ]
  },
  {
   "cell_type": "code",
   "execution_count": 19,
   "metadata": {},
   "outputs": [
    {
     "data": {
      "application/vnd.microsoft.datawrangler.viewer.v0+json": {
       "columns": [
        {
         "name": "date/time",
         "rawType": "datetime64[ns]",
         "type": "datetime"
        },
        {
         "name": "ELFINLat",
         "rawType": "float64",
         "type": "float"
        },
        {
         "name": "PINALat",
         "rawType": "float64",
         "type": "float"
        },
        {
         "name": "GILLlat",
         "rawType": "float64",
         "type": "float"
        },
        {
         "name": "EFLINLon",
         "rawType": "float64",
         "type": "float"
        },
        {
         "name": "PINALon",
         "rawType": "float64",
         "type": "float"
        },
        {
         "name": "GILLlon",
         "rawType": "float64",
         "type": "float"
        },
        {
         "name": "ClosestStation",
         "rawType": "object",
         "type": "string"
        },
        {
         "name": "Elevation [deg]",
         "rawType": "float64",
         "type": "float"
        },
        {
         "name": "ELFINeflux [erg/cm^2/s]",
         "rawType": "float64",
         "type": "float"
        },
        {
         "name": "ELFINenergy [keV]",
         "rawType": "float64",
         "type": "float"
        }
       ],
       "ref": "79976d49-89a3-41ba-8f72-5335f18f5c48",
       "rows": [
        [
         "2022-09-04 04:19:42",
         "58.1885696",
         "58.2521",
         "58.1624",
         "272.1136694",
         "271.991",
         "272.152",
         "gill",
         "11.5868",
         "0.0506847",
         "0.823"
        ],
        [
         "2022-09-04 04:19:43",
         "58.12332908",
         "58.2521",
         "58.1624",
         "272.0971441",
         "271.991",
         "272.152",
         "gill",
         "11.5868",
         "0.0506847",
         "0.823"
        ],
        [
         "2022-09-04 04:19:44",
         "58.05808595",
         "57.9534",
         "58.0769",
         "272.0806649",
         "272.228",
         "272.167",
         "gill",
         "11.689",
         "0.113653",
         "0.857"
        ],
        [
         "2022-09-04 04:19:45",
         "57.99349875",
         "57.9534",
         "58.011",
         "272.0640648",
         "272.228",
         "272.012",
         "gill",
         "12.0754",
         "0.144092",
         "0.857"
        ],
        [
         "2022-09-04 04:19:46",
         "57.92771739",
         "57.9534",
         "57.9323",
         "272.0478067",
         "272.228",
         "272.046",
         "gill",
         "12.1287",
         "0.191217",
         "0.93"
        ]
       ],
       "shape": {
        "columns": 10,
        "rows": 5
       }
      },
      "text/html": [
       "<div>\n",
       "<style scoped>\n",
       "    .dataframe tbody tr th:only-of-type {\n",
       "        vertical-align: middle;\n",
       "    }\n",
       "\n",
       "    .dataframe tbody tr th {\n",
       "        vertical-align: top;\n",
       "    }\n",
       "\n",
       "    .dataframe thead th {\n",
       "        text-align: right;\n",
       "    }\n",
       "</style>\n",
       "<table border=\"1\" class=\"dataframe\">\n",
       "  <thead>\n",
       "    <tr style=\"text-align: right;\">\n",
       "      <th></th>\n",
       "      <th>ELFINLat</th>\n",
       "      <th>PINALat</th>\n",
       "      <th>GILLlat</th>\n",
       "      <th>EFLINLon</th>\n",
       "      <th>PINALon</th>\n",
       "      <th>GILLlon</th>\n",
       "      <th>ClosestStation</th>\n",
       "      <th>Elevation [deg]</th>\n",
       "      <th>ELFINeflux [erg/cm^2/s]</th>\n",
       "      <th>ELFINenergy [keV]</th>\n",
       "    </tr>\n",
       "    <tr>\n",
       "      <th>date/time</th>\n",
       "      <th></th>\n",
       "      <th></th>\n",
       "      <th></th>\n",
       "      <th></th>\n",
       "      <th></th>\n",
       "      <th></th>\n",
       "      <th></th>\n",
       "      <th></th>\n",
       "      <th></th>\n",
       "      <th></th>\n",
       "    </tr>\n",
       "  </thead>\n",
       "  <tbody>\n",
       "    <tr>\n",
       "      <th>2022-09-04 04:19:42</th>\n",
       "      <td>58.188570</td>\n",
       "      <td>58.2521</td>\n",
       "      <td>58.1624</td>\n",
       "      <td>272.113669</td>\n",
       "      <td>271.991</td>\n",
       "      <td>272.152</td>\n",
       "      <td>gill</td>\n",
       "      <td>11.5868</td>\n",
       "      <td>0.050685</td>\n",
       "      <td>0.823</td>\n",
       "    </tr>\n",
       "    <tr>\n",
       "      <th>2022-09-04 04:19:43</th>\n",
       "      <td>58.123329</td>\n",
       "      <td>58.2521</td>\n",
       "      <td>58.1624</td>\n",
       "      <td>272.097144</td>\n",
       "      <td>271.991</td>\n",
       "      <td>272.152</td>\n",
       "      <td>gill</td>\n",
       "      <td>11.5868</td>\n",
       "      <td>0.050685</td>\n",
       "      <td>0.823</td>\n",
       "    </tr>\n",
       "    <tr>\n",
       "      <th>2022-09-04 04:19:44</th>\n",
       "      <td>58.058086</td>\n",
       "      <td>57.9534</td>\n",
       "      <td>58.0769</td>\n",
       "      <td>272.080665</td>\n",
       "      <td>272.228</td>\n",
       "      <td>272.167</td>\n",
       "      <td>gill</td>\n",
       "      <td>11.6890</td>\n",
       "      <td>0.113653</td>\n",
       "      <td>0.857</td>\n",
       "    </tr>\n",
       "    <tr>\n",
       "      <th>2022-09-04 04:19:45</th>\n",
       "      <td>57.993499</td>\n",
       "      <td>57.9534</td>\n",
       "      <td>58.0110</td>\n",
       "      <td>272.064065</td>\n",
       "      <td>272.228</td>\n",
       "      <td>272.012</td>\n",
       "      <td>gill</td>\n",
       "      <td>12.0754</td>\n",
       "      <td>0.144092</td>\n",
       "      <td>0.857</td>\n",
       "    </tr>\n",
       "    <tr>\n",
       "      <th>2022-09-04 04:19:46</th>\n",
       "      <td>57.927717</td>\n",
       "      <td>57.9534</td>\n",
       "      <td>57.9323</td>\n",
       "      <td>272.047807</td>\n",
       "      <td>272.228</td>\n",
       "      <td>272.046</td>\n",
       "      <td>gill</td>\n",
       "      <td>12.1287</td>\n",
       "      <td>0.191217</td>\n",
       "      <td>0.930</td>\n",
       "    </tr>\n",
       "  </tbody>\n",
       "</table>\n",
       "</div>"
      ],
      "text/plain": [
       "                      ELFINLat  PINALat  GILLlat    EFLINLon  PINALon  \\\n",
       "date/time                                                               \n",
       "2022-09-04 04:19:42  58.188570  58.2521  58.1624  272.113669  271.991   \n",
       "2022-09-04 04:19:43  58.123329  58.2521  58.1624  272.097144  271.991   \n",
       "2022-09-04 04:19:44  58.058086  57.9534  58.0769  272.080665  272.228   \n",
       "2022-09-04 04:19:45  57.993499  57.9534  58.0110  272.064065  272.228   \n",
       "2022-09-04 04:19:46  57.927717  57.9534  57.9323  272.047807  272.228   \n",
       "\n",
       "                     GILLlon ClosestStation  Elevation [deg]  \\\n",
       "date/time                                                      \n",
       "2022-09-04 04:19:42  272.152           gill          11.5868   \n",
       "2022-09-04 04:19:43  272.152           gill          11.5868   \n",
       "2022-09-04 04:19:44  272.167           gill          11.6890   \n",
       "2022-09-04 04:19:45  272.012           gill          12.0754   \n",
       "2022-09-04 04:19:46  272.046           gill          12.1287   \n",
       "\n",
       "                     ELFINeflux [erg/cm^2/s]  ELFINenergy [keV]  \n",
       "date/time                                                        \n",
       "2022-09-04 04:19:42                 0.050685              0.823  \n",
       "2022-09-04 04:19:43                 0.050685              0.823  \n",
       "2022-09-04 04:19:44                 0.113653              0.857  \n",
       "2022-09-04 04:19:45                 0.144092              0.857  \n",
       "2022-09-04 04:19:46                 0.191217              0.930  "
      ]
     },
     "execution_count": 19,
     "metadata": {},
     "output_type": "execute_result"
    }
   ],
   "source": [
    "themis_asi_eflux.dropna().head()"
   ]
  },
  {
   "cell_type": "markdown",
   "metadata": {},
   "source": [
    "## Plot the ELFIN BLC and ABLC energy fluxes\n",
    "Let's compare the amount of energy flux that disspiated in the atmosphere vs the amount that made it back out."
   ]
  },
  {
   "cell_type": "code",
   "execution_count": 20,
   "metadata": {},
   "outputs": [
    {
     "name": "stderr",
     "output_type": "stream",
     "text": [
      "C:\\Users\\shumkms1\\AppData\\Local\\Temp\\ipykernel_11760\\1964764843.py:19: RuntimeWarning: divide by zero encountered in divide\n",
      "  pad_obj_eflux.blc.T/pad_obj_eflux.ablc.T,\n",
      "C:\\Users\\shumkms1\\AppData\\Local\\Temp\\ipykernel_11760\\1964764843.py:19: RuntimeWarning: invalid value encountered in divide\n",
      "  pad_obj_eflux.blc.T/pad_obj_eflux.ablc.T,\n"
     ]
    },
    {
     "data": {
      "image/png": "[encoded data removed]",
      "text/plain": [
       "<Figure size 1000x600 with 5 Axes>"
      ]
     },
     "metadata": {},
     "output_type": "display_data"
    }
   ],
   "source": [
    "fig, ax = plt.subplots(3, 1, sharex=True, figsize=(10, 6))\n",
    "p = ax[0].pcolormesh(\n",
    "            pad_obj_eflux.pad.time, \n",
    "            pad_obj_eflux.energy, \n",
    "            pad_obj_eflux.blc.T,\n",
    "            shading='nearest',\n",
    "            norm=matplotlib.colors.LogNorm(vmin=1E2, vmax=1E9)\n",
    "            )\n",
    "p2 = ax[1].pcolormesh(\n",
    "            pad_obj_eflux.pad.time, \n",
    "            pad_obj_eflux.energy, \n",
    "            pad_obj_eflux.ablc.T,\n",
    "            shading='nearest',\n",
    "            norm=matplotlib.colors.LogNorm(vmin=1E2, vmax=1E9)\n",
    "            )\n",
    "p3 = ax[2].pcolormesh(\n",
    "            pad_obj_eflux.pad.time, \n",
    "            pad_obj_eflux.energy, \n",
    "            pad_obj_eflux.blc.T/pad_obj_eflux.ablc.T,\n",
    "            shading='nearest',\n",
    "            norm=matplotlib.colors.LogNorm(vmax=10**2)\n",
    "            )\n",
    "\n",
    "pad_obj_eflux.plot_position(ax[-1])\n",
    "\n",
    "labels = ('BLC Eflux', 'ABLC Eflux', 'BLC/ABLC Eflux ratio')\n",
    "for ax_i, label in zip(ax, labels):\n",
    "    ax_i.set_yscale('log')\n",
    "    ax_i.set_ylabel('Energy [keV]')\n",
    "    _text = ax_i.text(0.01, 0.99, label, transform=ax_i.transAxes, va='top')\n",
    "    _text.set_bbox(dict(facecolor='white', linewidth=0, pad=0.1, edgecolor='k'))\n",
    "\n",
    "fig.subplots_adjust(left=0.25, right=0.8)\n",
    "cbar_ax0 = fig.add_axes([0.85, 0.5, 0.02, 0.3])\n",
    "cbar_ax1 = fig.add_axes([0.85, 0.1, 0.02, 0.3])\n",
    "fig.colorbar(p, cax=cbar_ax0, label=pad_obj_eflux._flux_units)\n",
    "fig.colorbar(p3, cax=cbar_ax1, label='BLC/ABLC')\n",
    "\n",
    "ax[-1].xaxis.set_major_locator(plt.MaxNLocator(7))\n",
    "ax[-1].xaxis.set_label_coords(-0.04, -0.007*7)\n",
    "ax[-1].xaxis.label.set_size(10)\n"
   ]
  },
  {
   "cell_type": "markdown",
   "metadata": {},
   "source": [
    "The bottom panel shows us that typically the precipitating energy flux was 10x-100x of the energy flux going back up. In other words, the $>50$ keV energy flux was mostly deposited into the atmosphere."
   ]
  },
  {
   "cell_type": "markdown",
   "metadata": {},
   "source": [
    "## What was the integrated $>50$ keV energy flux that ELFIN observed?"
   ]
  },
  {
   "cell_type": "code",
   "execution_count": 21,
   "metadata": {},
   "outputs": [],
   "source": [
    "energy_widths_mev = (pad_obj_eflux.energy_widths[:, 1]-pad_obj_eflux.energy_widths[:, 0])/1E3\n",
    "eflux_ergs = kev_erg_factor*precipitation_solid_angle*(pad_obj_eflux.blc - pad_obj_eflux.ablc)*energy_widths_mev\n",
    "relativistic_eflux = np.nansum(eflux_ergs, axis=1)"
   ]
  },
  {
   "cell_type": "code",
   "execution_count": 22,
   "metadata": {},
   "outputs": [
    {
     "data": {
      "image/png": "[encoded data removed]",
      "text/plain": [
       "<Figure size 640x480 with 1 Axes>"
      ]
     },
     "metadata": {},
     "output_type": "display_data"
    }
   ],
   "source": [
    "plt.hist(relativistic_eflux, bins=np.logspace(0, 1.5, 10), histtype='step', color='k')\n",
    "plt.title('Distribution of >50 keV Eflux')\n",
    "plt.xlabel('Relativistic Eflux [ergs/cm^2/s]')\n",
    "plt.ylabel('Counts');"
   ]
  },
  {
   "cell_type": "markdown",
   "metadata": {},
   "source": [
    "Looks good! Now let's merge the ELFIN and THEMIS-ASI Eflux values on the same time stamps and calculate the percentage contribution of the >50 keV electrons to the total energy flux"
   ]
  },
  {
   "cell_type": "code",
   "execution_count": 23,
   "metadata": {},
   "outputs": [],
   "source": [
    "elfin_eflux = pd.DataFrame(relativistic_eflux, index=pad_obj_eflux.pad.time, columns=['energetic'])\n",
    "auroral_eflux = pd.DataFrame(themis_asi_eflux['ELFINeflux [erg/cm^2/s]']).rename(columns={'ELFINeflux [erg/cm^2/s]':'auroral'})\n",
    "\n",
    "merged_eflux = pd.merge_asof(\n",
    "    elfin_eflux, \n",
    "    auroral_eflux, \n",
    "    left_index=True, \n",
    "    right_index=True, \n",
    "    direction='nearest', \n",
    "    tolerance=pd.Timedelta('1s')\n",
    "    )\n",
    "merged_eflux['energetic_contribution'] = 100*merged_eflux['energetic']/(merged_eflux['auroral'] + merged_eflux['energetic'])"
   ]
  },
  {
   "cell_type": "code",
   "execution_count": 24,
   "metadata": {},
   "outputs": [
    {
     "data": {
      "application/vnd.microsoft.datawrangler.viewer.v0+json": {
       "columns": [
        {
         "name": "index",
         "rawType": "datetime64[ns]",
         "type": "datetime"
        },
        {
         "name": "energetic",
         "rawType": "float64",
         "type": "float"
        },
        {
         "name": "auroral",
         "rawType": "float64",
         "type": "float"
        },
        {
         "name": "energetic_contribution",
         "rawType": "float64",
         "type": "float"
        }
       ],
       "ref": "88b983a2-1049-4eec-b17d-4ec94f8fc3e6",
       "rows": [
        [
         "2022-09-04 04:18:01.896945",
         "0.006677600899007168",
         null,
         null
        ],
        [
         "2022-09-04 04:18:04.762952",
         "0.0016893825994246914",
         null,
         null
        ],
        [
         "2022-09-04 04:18:07.659442",
         "0.0019472400345652962",
         null,
         null
        ],
        [
         "2022-09-04 04:18:10.525450",
         "0.0029957692332304928",
         null,
         null
        ],
        [
         "2022-09-04 04:18:13.421940",
         "0.004959694611600767",
         null,
         null
        ],
        [
         "2022-09-04 04:18:16.287947",
         "-0.0014092916880171463",
         null,
         null
        ],
        [
         "2022-09-04 04:18:19.184437",
         "0.002998807305585766",
         null,
         null
        ],
        [
         "2022-09-04 04:18:22.050444",
         "0.002459948136685062",
         null,
         null
        ],
        [
         "2022-09-04 04:18:24.946934",
         "0.004337125800902322",
         null,
         null
        ],
        [
         "2022-09-04 04:18:27.812955",
         "0.002724933879210973",
         null,
         null
        ],
        [
         "2022-09-04 04:18:30.709445",
         "0.0009220870671034672",
         null,
         null
        ],
        [
         "2022-09-04 04:18:33.575453",
         "0.0016575534058588968",
         null,
         null
        ],
        [
         "2022-09-04 04:18:36.450453",
         "0.002228523343629887",
         null,
         null
        ],
        [
         "2022-09-04 04:18:39.346943",
         "0.0042017579675474835",
         null,
         null
        ],
        [
         "2022-09-04 04:18:42.212950",
         "0.004207463613289905",
         null,
         null
        ],
        [
         "2022-09-04 04:18:45.109440",
         "0.0013705687764064682",
         null,
         null
        ],
        [
         "2022-09-04 04:18:47.975447",
         "0.004215076632960933",
         null,
         null
        ],
        [
         "2022-09-04 04:18:50.871937",
         "0.000993992155410352",
         null,
         null
        ],
        [
         "2022-09-04 04:18:53.737944",
         "0.0022847933399524584",
         null,
         null
        ],
        [
         "2022-09-04 04:18:56.612944",
         "0.0009215859995882162",
         null,
         null
        ],
        [
         "2022-09-04 04:18:59.509448",
         "-0.0047133113094192025",
         null,
         null
        ],
        [
         "2022-09-04 04:19:02.375441",
         "0.003160678163206175",
         null,
         null
        ],
        [
         "2022-09-04 04:19:05.271945",
         "0.004854015256756359",
         null,
         null
        ],
        [
         "2022-09-04 04:19:08.137953",
         "-0.0014423630636758863",
         null,
         null
        ],
        [
         "2022-09-04 04:19:11.012953",
         "0.00029586940064240405",
         null,
         null
        ],
        [
         "2022-09-04 04:19:13.909442",
         "0.0008948236283373392",
         null,
         null
        ],
        [
         "2022-09-04 04:19:16.775450",
         "-0.001977387833723532",
         null,
         null
        ],
        [
         "2022-09-04 04:19:19.671940",
         "0.0022872714742913952",
         null,
         null
        ],
        [
         "2022-09-04 04:19:22.537947",
         "0.002375453170580803",
         null,
         null
        ],
        [
         "2022-09-04 04:19:25.412947",
         "-3.076553688343667e-05",
         null,
         null
        ],
        [
         "2022-09-04 04:19:28.309437",
         "0.0005800062910519383",
         null,
         null
        ],
        [
         "2022-09-04 04:19:31.175444",
         "0.000967946464106916",
         null,
         null
        ],
        [
         "2022-09-04 04:19:34.050444",
         "0.000300412448079093",
         null,
         null
        ],
        [
         "2022-09-04 04:19:36.946934",
         "-0.001647452516004211",
         null,
         null
        ],
        [
         "2022-09-04 04:19:39.812955",
         "0.0016801168221412394",
         null,
         null
        ],
        [
         "2022-09-04 04:19:42.687941",
         "0.0014871593973652894",
         "0.0506847",
         "2.850501045090971"
        ],
        [
         "2022-09-04 04:19:45.584445",
         "-0.0028734374446196557",
         "0.191217",
         "-1.5256361330506072"
        ],
        [
         "2022-09-04 04:19:48.450453",
         "0.001180181137801965",
         "0.520046",
         "0.22642399413354647"
        ],
        [
         "2022-09-04 04:19:51.325452",
         "0.0011479165263077115",
         "0.464349",
         "0.2466002427843873"
        ],
        [
         "2022-09-04 04:19:54.221942",
         "-0.0008709039623849006",
         "0.233251",
         "-0.3747756271879363"
        ],
        [
         "2022-09-04 04:19:57.087950",
         "0.0014400213893029624",
         "0.303785",
         "0.47179008547476503"
        ],
        [
         "2022-09-04 04:19:59.962950",
         "0.002443981630600986",
         "0.556304",
         "0.4374032141411383"
        ],
        [
         "2022-09-04 04:20:02.859440",
         "0.0024005611897039043",
         "0.929939",
         "0.25747713490143964"
        ],
        [
         "2022-09-04 04:20:05.725447",
         "0.00754170115865536",
         "1.27335",
         "0.5887852307758236"
        ],
        [
         "2022-09-04 04:20:08.600447",
         "0.10939580539675439",
         "1.58122",
         "6.470766749461528"
        ],
        [
         "2022-09-04 04:20:11.496937",
         "0.19418657187043925",
         "1.84855",
         "9.506197448290242"
        ],
        [
         "2022-09-04 04:20:14.362944",
         "6.716873193544801",
         "3.10578",
         "68.38145520559516"
        ],
        [
         "2022-09-04 04:20:17.237944",
         "4.616074710737019",
         "12.3455",
         "27.214894781054443"
        ],
        [
         "2022-09-04 04:20:20.112944",
         "2.9194068693257895",
         "23.3946",
         "11.094497633231748"
        ],
        [
         "2022-09-04 04:20:22.987944",
         "2.231009931025395",
         "28.7537",
         "7.200357647342232"
        ]
       ],
       "shape": {
        "columns": 3,
        "rows": 103
       }
      },
      "text/html": [
       "<div>\n",
       "<style scoped>\n",
       "    .dataframe tbody tr th:only-of-type {\n",
       "        vertical-align: middle;\n",
       "    }\n",
       "\n",
       "    .dataframe tbody tr th {\n",
       "        vertical-align: top;\n",
       "    }\n",
       "\n",
       "    .dataframe thead th {\n",
       "        text-align: right;\n",
       "    }\n",
       "</style>\n",
       "<table border=\"1\" class=\"dataframe\">\n",
       "  <thead>\n",
       "    <tr style=\"text-align: right;\">\n",
       "      <th></th>\n",
       "      <th>energetic</th>\n",
       "      <th>auroral</th>\n",
       "      <th>energetic_contribution</th>\n",
       "    </tr>\n",
       "  </thead>\n",
       "  <tbody>\n",
       "    <tr>\n",
       "      <th>2022-09-04 04:18:01.896945</th>\n",
       "      <td>0.006678</td>\n",
       "      <td>NaN</td>\n",
       "      <td>NaN</td>\n",
       "    </tr>\n",
       "    <tr>\n",
       "      <th>2022-09-04 04:18:04.762952</th>\n",
       "      <td>0.001689</td>\n",
       "      <td>NaN</td>\n",
       "      <td>NaN</td>\n",
       "    </tr>\n",
       "    <tr>\n",
       "      <th>2022-09-04 04:18:07.659442</th>\n",
       "      <td>0.001947</td>\n",
       "      <td>NaN</td>\n",
       "      <td>NaN</td>\n",
       "    </tr>\n",
       "    <tr>\n",
       "      <th>2022-09-04 04:18:10.525450</th>\n",
       "      <td>0.002996</td>\n",
       "      <td>NaN</td>\n",
       "      <td>NaN</td>\n",
       "    </tr>\n",
       "    <tr>\n",
       "      <th>2022-09-04 04:18:13.421940</th>\n",
       "      <td>0.004960</td>\n",
       "      <td>NaN</td>\n",
       "      <td>NaN</td>\n",
       "    </tr>\n",
       "    <tr>\n",
       "      <th>...</th>\n",
       "      <td>...</td>\n",
       "      <td>...</td>\n",
       "      <td>...</td>\n",
       "    </tr>\n",
       "    <tr>\n",
       "      <th>2022-09-04 04:22:44.012952</th>\n",
       "      <td>-0.003151</td>\n",
       "      <td>NaN</td>\n",
       "      <td>NaN</td>\n",
       "    </tr>\n",
       "    <tr>\n",
       "      <th>2022-09-04 04:22:46.887953</th>\n",
       "      <td>0.002618</td>\n",
       "      <td>NaN</td>\n",
       "      <td>NaN</td>\n",
       "    </tr>\n",
       "    <tr>\n",
       "      <th>2022-09-04 04:22:49.784443</th>\n",
       "      <td>0.001415</td>\n",
       "      <td>NaN</td>\n",
       "      <td>NaN</td>\n",
       "    </tr>\n",
       "    <tr>\n",
       "      <th>2022-09-04 04:22:52.650450</th>\n",
       "      <td>-0.002075</td>\n",
       "      <td>NaN</td>\n",
       "      <td>NaN</td>\n",
       "    </tr>\n",
       "    <tr>\n",
       "      <th>2022-09-04 04:22:55.525450</th>\n",
       "      <td>-0.000581</td>\n",
       "      <td>NaN</td>\n",
       "      <td>NaN</td>\n",
       "    </tr>\n",
       "  </tbody>\n",
       "</table>\n",
       "<p>103 rows × 3 columns</p>\n",
       "</div>"
      ],
      "text/plain": [
       "                            energetic  auroral  energetic_contribution\n",
       "2022-09-04 04:18:01.896945   0.006678      NaN                     NaN\n",
       "2022-09-04 04:18:04.762952   0.001689      NaN                     NaN\n",
       "2022-09-04 04:18:07.659442   0.001947      NaN                     NaN\n",
       "2022-09-04 04:18:10.525450   0.002996      NaN                     NaN\n",
       "2022-09-04 04:18:13.421940   0.004960      NaN                     NaN\n",
       "...                               ...      ...                     ...\n",
       "2022-09-04 04:22:44.012952  -0.003151      NaN                     NaN\n",
       "2022-09-04 04:22:46.887953   0.002618      NaN                     NaN\n",
       "2022-09-04 04:22:49.784443   0.001415      NaN                     NaN\n",
       "2022-09-04 04:22:52.650450  -0.002075      NaN                     NaN\n",
       "2022-09-04 04:22:55.525450  -0.000581      NaN                     NaN\n",
       "\n",
       "[103 rows x 3 columns]"
      ]
     },
     "execution_count": 24,
     "metadata": {},
     "output_type": "execute_result"
    }
   ],
   "source": [
    "merged_eflux"
   ]
  },
  {
   "cell_type": "code",
   "execution_count": 25,
   "metadata": {},
   "outputs": [
    {
     "data": {
      "application/vnd.microsoft.datawrangler.viewer.v0+json": {
       "columns": [
        {
         "name": "index",
         "rawType": "object",
         "type": "string"
        },
        {
         "name": "energetic",
         "rawType": "float64",
         "type": "float"
        },
        {
         "name": "auroral",
         "rawType": "float64",
         "type": "float"
        },
        {
         "name": "energetic_contribution",
         "rawType": "float64",
         "type": "float"
        }
       ],
       "ref": "ac6dd915-1539-4317-bcf4-f21561ea0f9e",
       "rows": [
        [
         "count",
         "48.0",
         "48.0",
         "48.0"
        ],
        [
         "mean",
         "1.34",
         "7.054",
         "9.09"
        ],
        [
         "std",
         "3.338",
         "10.35",
         "13.85"
        ],
        [
         "min",
         "-0.003",
         "0.051",
         "-1.869"
        ],
        [
         "25%",
         "0.003",
         "0.193",
         "1.484"
        ],
        [
         "50%",
         "0.015",
         "0.539",
         "4.266"
        ],
        [
         "75%",
         "1.019",
         "16.367",
         "10.81"
        ],
        [
         "max",
         "18.236",
         "30.025",
         "68.381"
        ]
       ],
       "shape": {
        "columns": 3,
        "rows": 8
       }
      },
      "text/html": [
       "<div>\n",
       "<style scoped>\n",
       "    .dataframe tbody tr th:only-of-type {\n",
       "        vertical-align: middle;\n",
       "    }\n",
       "\n",
       "    .dataframe tbody tr th {\n",
       "        vertical-align: top;\n",
       "    }\n",
       "\n",
       "    .dataframe thead th {\n",
       "        text-align: right;\n",
       "    }\n",
       "</style>\n",
       "<table border=\"1\" class=\"dataframe\">\n",
       "  <thead>\n",
       "    <tr style=\"text-align: right;\">\n",
       "      <th></th>\n",
       "      <th>energetic</th>\n",
       "      <th>auroral</th>\n",
       "      <th>energetic_contribution</th>\n",
       "    </tr>\n",
       "  </thead>\n",
       "  <tbody>\n",
       "    <tr>\n",
       "      <th>count</th>\n",
       "      <td>48.000</td>\n",
       "      <td>48.000</td>\n",
       "      <td>48.000</td>\n",
       "    </tr>\n",
       "    <tr>\n",
       "      <th>mean</th>\n",
       "      <td>1.340</td>\n",
       "      <td>7.054</td>\n",
       "      <td>9.090</td>\n",
       "    </tr>\n",
       "    <tr>\n",
       "      <th>std</th>\n",
       "      <td>3.338</td>\n",
       "      <td>10.350</td>\n",
       "      <td>13.850</td>\n",
       "    </tr>\n",
       "    <tr>\n",
       "      <th>min</th>\n",
       "      <td>-0.003</td>\n",
       "      <td>0.051</td>\n",
       "      <td>-1.869</td>\n",
       "    </tr>\n",
       "    <tr>\n",
       "      <th>25%</th>\n",
       "      <td>0.003</td>\n",
       "      <td>0.193</td>\n",
       "      <td>1.484</td>\n",
       "    </tr>\n",
       "    <tr>\n",
       "      <th>50%</th>\n",
       "      <td>0.015</td>\n",
       "      <td>0.539</td>\n",
       "      <td>4.266</td>\n",
       "    </tr>\n",
       "    <tr>\n",
       "      <th>75%</th>\n",
       "      <td>1.019</td>\n",
       "      <td>16.367</td>\n",
       "      <td>10.810</td>\n",
       "    </tr>\n",
       "    <tr>\n",
       "      <th>max</th>\n",
       "      <td>18.236</td>\n",
       "      <td>30.025</td>\n",
       "      <td>68.381</td>\n",
       "    </tr>\n",
       "  </tbody>\n",
       "</table>\n",
       "</div>"
      ],
      "text/plain": [
       "       energetic  auroral  energetic_contribution\n",
       "count     48.000   48.000                  48.000\n",
       "mean       1.340    7.054                   9.090\n",
       "std        3.338   10.350                  13.850\n",
       "min       -0.003    0.051                  -1.869\n",
       "25%        0.003    0.193                   1.484\n",
       "50%        0.015    0.539                   4.266\n",
       "75%        1.019   16.367                  10.810\n",
       "max       18.236   30.025                  68.381"
      ]
     },
     "execution_count": 25,
     "metadata": {},
     "output_type": "execute_result"
    }
   ],
   "source": [
    "merged_eflux.dropna().describe().round(3)"
   ]
  },
  {
   "cell_type": "markdown",
   "metadata": {},
   "source": [
    "Note: the negative min energetic EFlux is a result of the space-time aliasing, with higher fluxes in the ABLC than the BLC during the ELFIN half-spin period"
   ]
  },
  {
   "cell_type": "code",
   "execution_count": 26,
   "metadata": {},
   "outputs": [
    {
     "data": {
      "image/png": "[encoded data removed]",
      "text/plain": [
       "<Figure size 800x600 with 4 Axes>"
      ]
     },
     "metadata": {},
     "output_type": "display_data"
    }
   ],
   "source": [
    "fig, bx = plt.subplots(3, 1, sharex=True, figsize=(8, 6))\n",
    "pad_obj_eflux.plot_omni(bx[0], labels=True, colorbar=True, vmin=1E2, vmax=1E9, pretty_plot=False, fraction=0.05)\n",
    "bx[1].plot(\n",
    "    merged_eflux.index, \n",
    "    merged_eflux['energetic'], \n",
    "    label='>50 keV Eflux (BLC-ABLC)', \n",
    "    color='r', \n",
    "    linestyle='--'\n",
    "    )\n",
    "bx[1].plot(\n",
    "    merged_eflux.index, \n",
    "    merged_eflux['auroral'], \n",
    "    label='THEMIS ASI Eflux', color='k'\n",
    "    )\n",
    "\n",
    "bx[2].plot(merged_eflux.index, merged_eflux['energetic_contribution'], color='k')\n",
    "pad_obj_eflux.plot_position(bx[-1])\n",
    "bx[-1].xaxis.set_major_locator(plt.MaxNLocator(7))\n",
    "bx[-1].xaxis.set_label_coords(-0.04, -0.007*7)\n",
    "bx[-1].xaxis.label.set_size(10)\n",
    "\n",
    "for bx_i in bx[[1, 2]]:\n",
    "    divider = make_axes_locatable(bx_i)\n",
    "    cax = divider.append_axes(\"right\", size=\"10%\", pad=0.08)\n",
    "    cax.remove()\n",
    "\n",
    "bx[1].set_yscale('log')\n",
    "bx[1].set_ylabel(f'Energy Flux\\n$[ergs/cm^{{2}}s]$')\n",
    "bx[1].set_yticks([1E-2, 1E-1, 1E0, 1E1])\n",
    "bx[1].set_ylim(1E-3, 1E2)\n",
    "\n",
    "bx[2].set_ylabel(f'Percentage')\n",
    "bx[2].set_ylim(0, 1E2)\n",
    "\n",
    "labels = (\n",
    "    'ELFIN Eflux', \n",
    "    'Auroral Eflux (solid-black) vs.\\n    >50 keV Eflux (dashed-red)', \n",
    "    '>50 keV electron\\ncontribution to total Eflux'\n",
    "    )\n",
    "for ax_i, label, letter in zip(bx, labels, string.ascii_lowercase):\n",
    "    _text = ax_i.text(0.01, 0.99, f'({letter}) {label}', transform=ax_i.transAxes, va='top')\n",
    "    _text.set_bbox(dict(facecolor='white', linewidth=0, pad=0.1, edgecolor='k'))\n",
    "plt.suptitle('ELFIN - THEMIS ASI Electron Flux Comparison', fontsize=14)\n",
    "plt.tight_layout()"
   ]
  },
  {
   "cell_type": "markdown",
   "metadata": {},
   "source": [
    "Not a bad comparison considering that the [Gabrielse+2021](https://doi.org/10.3389/fphy.2021.744298) inversion for this event did not include the MSP data (those instruments stopped operating then). We should compare this with Calgary's inversion.\n",
    "\n",
    "Two lessons learned from this first comparison:\n",
    "1. Typically the energetic energy fluxes make up a small portion (4% median and 8% percent mean), and\n",
    "2. Occasionally the energetic energy fluxes can make up as much as 68% of the energetic+auroral energy flux."
   ]
  },
  {
   "cell_type": "markdown",
   "metadata": {},
   "source": [
    "# Sensitivity Analysis"
   ]
  },
  {
   "cell_type": "code",
   "execution_count": 71,
   "metadata": {},
   "outputs": [],
   "source": [
    "inversion_dir = elfinasi.data_dir / '20220904_themis_asi_inversion'\n",
    "_file_paths = sorted(inversion_dir.glob('ASIdata*'))\n",
    "offsets = [int(re.search(r\"(\\d{1,3})\\.csv$\", _file_path.name).group(1))/10 for _file_path in _file_paths]\n",
    "sensitive_df = pd.DataFrame(\n",
    "    index=offsets, \n",
    "    data={\n",
    "        'file_name':[_file_path.name for _file_path in _file_paths],\n",
    "        'median_energetic_contribution':-np.ones_like(_file_paths),\n",
    "        'mean_energetic_contribution':-np.ones_like(_file_paths),\n",
    "        'max_energetic_contribution':-np.ones_like(_file_paths),\n",
    "        }\n",
    "    )\n",
    "sensitive_df = sensitive_df.sort_index()"
   ]
  },
  {
   "cell_type": "code",
   "execution_count": 72,
   "metadata": {},
   "outputs": [],
   "source": [
    "for i, row in sensitive_df.iterrows():\n",
    "    themis_asi_eflux = pd.read_csv(\n",
    "        inversion_dir / row['file_name'], \n",
    "        index_col=0, \n",
    "        skiprows=1,  # This is necessary because someone forgot to add \",\"s to the header!\n",
    "        names=header,\n",
    "        parse_dates=True, \n",
    "        na_values=('NaN', \"-1\")\n",
    "    )\n",
    "    themis_asi_eflux = themis_asi_eflux.loc[themis_asi_eflux['Elevation [deg]'] > 10]  # Christine's suggested threshold\n",
    "\n",
    "    elfin_eflux = pd.DataFrame(relativistic_eflux, index=pad_obj_eflux.pad.time, columns=['energetic'])\n",
    "    auroral_eflux = pd.DataFrame(themis_asi_eflux['ELFINeflux [erg/cm^2/s]']).rename(columns={'ELFINeflux [erg/cm^2/s]':'auroral'})\n",
    "\n",
    "    merged_eflux = pd.merge_asof(\n",
    "        elfin_eflux, \n",
    "        auroral_eflux, \n",
    "        left_index=True, \n",
    "        right_index=True, \n",
    "        direction='nearest', \n",
    "        tolerance=pd.Timedelta('1s')\n",
    "        )\n",
    "    merged_eflux['energetic_contribution'] = 100*merged_eflux['energetic']/(merged_eflux['auroral'] + merged_eflux['energetic'])\n",
    "    sensitive_df.loc[i, 'median_energetic_contribution'] = np.nanmedian(merged_eflux['energetic_contribution'])\n",
    "    sensitive_df.loc[i, 'mean_energetic_contribution'] = np.nanmean(merged_eflux['energetic_contribution'])\n",
    "    sensitive_df.loc[i, 'max_energetic_contribution'] = np.nanmax(merged_eflux['energetic_contribution'])"
   ]
  },
  {
   "cell_type": "code",
   "execution_count": 73,
   "metadata": {},
   "outputs": [
    {
     "data": {
      "application/vnd.microsoft.datawrangler.viewer.v0+json": {
       "columns": [
        {
         "name": "index",
         "rawType": "float64",
         "type": "float"
        },
        {
         "name": "file_name",
         "rawType": "object",
         "type": "string"
        },
        {
         "name": "median_energetic_contribution",
         "rawType": "object",
         "type": "unknown"
        },
        {
         "name": "mean_energetic_contribution",
         "rawType": "object",
         "type": "unknown"
        },
        {
         "name": "max_energetic_contribution",
         "rawType": "object",
         "type": "unknown"
        }
       ],
       "ref": "5f075b58-c209-4135-99be-4048d3b925fe",
       "rows": [
        [
         "0.0",
         "ASIdataCSV0.csv",
         "4.266171889176844",
         "9.089663811238374",
         "68.38145520559516"
        ],
        [
         "0.5",
         "ASIdataCSV5.csv",
         "3.68551232541346",
         "8.176380922139243",
         "65.7846028821989"
        ],
        [
         "1.0",
         "ASIdataCSV10.csv",
         "2.9275034853128896",
         "6.444756257481071",
         "67.69879185576619"
        ],
        [
         "1.5",
         "ASIdataCSV15.csv",
         "2.5102245181048035",
         "5.742026912509244",
         "68.30975628948079"
        ],
        [
         "2.0",
         "ASIdataCSV20.csv",
         "2.281519055577977",
         "5.141056969723176",
         "60.30194885570481"
        ],
        [
         "2.5",
         "ASIdataCSV25.csv",
         "2.244332278508274",
         "5.527589612151002",
         "60.23667602198556"
        ],
        [
         "3.0",
         "ASIdataCSV30.csv",
         "1.8565277949117371",
         "5.774100045132188",
         "64.89774443891173"
        ],
        [
         "3.5",
         "ASIdataCSV35.csv",
         "1.8162113525010333",
         "5.857498151209401",
         "62.764642459201035"
        ],
        [
         "4.0",
         "ASIdataCSV40.csv",
         "1.8655446280739356",
         "5.823866120389857",
         "60.46822825203987"
        ],
        [
         "4.5",
         "ASIdataCSV45.csv",
         "1.8922018569989252",
         "5.4915009894822875",
         "52.490034495857316"
        ],
        [
         "5.0",
         "ASIdataCSV50.csv",
         "2.2992274664875967",
         "5.668365126281114",
         "54.469137624589784"
        ],
        [
         "5.5",
         "ASIdataCSV55.csv",
         "1.507562017972261",
         "5.979992642197608",
         "51.272375650189645"
        ],
        [
         "6.0",
         "ASIdataCSV60.csv",
         "2.2887125065481793",
         "5.565315806530473",
         "52.739330486916884"
        ],
        [
         "6.5",
         "ASIdataCSV65.csv",
         "1.6600847924487039",
         "4.839663475829707",
         "50.45316697448113"
        ],
        [
         "7.0",
         "ASIdataCSV70.csv",
         "1.2021190883243802",
         "4.416323368881614",
         "42.15625180075943"
        ],
        [
         "7.5",
         "ASIdataCSV75.csv",
         "0.9731996270333392",
         "3.602663424677373",
         "29.737460602468545"
        ],
        [
         "8.0",
         "ASIdataCSV80.csv",
         "0.8058101288496292",
         "3.196406879719603",
         "39.264053307139264"
        ],
        [
         "8.5",
         "ASIdataCSV85.csv",
         "0.866356059354786",
         "3.284945593133902",
         "41.71134965105529"
        ],
        [
         "9.0",
         "ASIdataCSV90.csv",
         "0.7121132099239351",
         "3.2230300010507893",
         "33.987413914981"
        ],
        [
         "9.5",
         "ASIdataCSV95.csv",
         "0.7607732341886893",
         "3.056335583521959",
         "32.67870615688876"
        ],
        [
         "10.0",
         "ASIdataCSV100.csv",
         "0.7409248732517557",
         "3.5825685493927164",
         "37.73966136220221"
        ]
       ],
       "shape": {
        "columns": 4,
        "rows": 21
       }
      },
      "text/html": [
       "<div>\n",
       "<style scoped>\n",
       "    .dataframe tbody tr th:only-of-type {\n",
       "        vertical-align: middle;\n",
       "    }\n",
       "\n",
       "    .dataframe tbody tr th {\n",
       "        vertical-align: top;\n",
       "    }\n",
       "\n",
       "    .dataframe thead th {\n",
       "        text-align: right;\n",
       "    }\n",
       "</style>\n",
       "<table border=\"1\" class=\"dataframe\">\n",
       "  <thead>\n",
       "    <tr style=\"text-align: right;\">\n",
       "      <th></th>\n",
       "      <th>file_name</th>\n",
       "      <th>median_energetic_contribution</th>\n",
       "      <th>mean_energetic_contribution</th>\n",
       "      <th>max_energetic_contribution</th>\n",
       "    </tr>\n",
       "  </thead>\n",
       "  <tbody>\n",
       "    <tr>\n",
       "      <th>0.0</th>\n",
       "      <td>ASIdataCSV0.csv</td>\n",
       "      <td>4.266172</td>\n",
       "      <td>9.089664</td>\n",
       "      <td>68.381455</td>\n",
       "    </tr>\n",
       "    <tr>\n",
       "      <th>0.5</th>\n",
       "      <td>ASIdataCSV5.csv</td>\n",
       "      <td>3.685512</td>\n",
       "      <td>8.176381</td>\n",
       "      <td>65.784603</td>\n",
       "    </tr>\n",
       "    <tr>\n",
       "      <th>1.0</th>\n",
       "      <td>ASIdataCSV10.csv</td>\n",
       "      <td>2.927503</td>\n",
       "      <td>6.444756</td>\n",
       "      <td>67.698792</td>\n",
       "    </tr>\n",
       "    <tr>\n",
       "      <th>1.5</th>\n",
       "      <td>ASIdataCSV15.csv</td>\n",
       "      <td>2.510225</td>\n",
       "      <td>5.742027</td>\n",
       "      <td>68.309756</td>\n",
       "    </tr>\n",
       "    <tr>\n",
       "      <th>2.0</th>\n",
       "      <td>ASIdataCSV20.csv</td>\n",
       "      <td>2.281519</td>\n",
       "      <td>5.141057</td>\n",
       "      <td>60.301949</td>\n",
       "    </tr>\n",
       "    <tr>\n",
       "      <th>2.5</th>\n",
       "      <td>ASIdataCSV25.csv</td>\n",
       "      <td>2.244332</td>\n",
       "      <td>5.52759</td>\n",
       "      <td>60.236676</td>\n",
       "    </tr>\n",
       "    <tr>\n",
       "      <th>3.0</th>\n",
       "      <td>ASIdataCSV30.csv</td>\n",
       "      <td>1.856528</td>\n",
       "      <td>5.7741</td>\n",
       "      <td>64.897744</td>\n",
       "    </tr>\n",
       "    <tr>\n",
       "      <th>3.5</th>\n",
       "      <td>ASIdataCSV35.csv</td>\n",
       "      <td>1.816211</td>\n",
       "      <td>5.857498</td>\n",
       "      <td>62.764642</td>\n",
       "    </tr>\n",
       "    <tr>\n",
       "      <th>4.0</th>\n",
       "      <td>ASIdataCSV40.csv</td>\n",
       "      <td>1.865545</td>\n",
       "      <td>5.823866</td>\n",
       "      <td>60.468228</td>\n",
       "    </tr>\n",
       "    <tr>\n",
       "      <th>4.5</th>\n",
       "      <td>ASIdataCSV45.csv</td>\n",
       "      <td>1.892202</td>\n",
       "      <td>5.491501</td>\n",
       "      <td>52.490034</td>\n",
       "    </tr>\n",
       "    <tr>\n",
       "      <th>5.0</th>\n",
       "      <td>ASIdataCSV50.csv</td>\n",
       "      <td>2.299227</td>\n",
       "      <td>5.668365</td>\n",
       "      <td>54.469138</td>\n",
       "    </tr>\n",
       "    <tr>\n",
       "      <th>5.5</th>\n",
       "      <td>ASIdataCSV55.csv</td>\n",
       "      <td>1.507562</td>\n",
       "      <td>5.979993</td>\n",
       "      <td>51.272376</td>\n",
       "    </tr>\n",
       "    <tr>\n",
       "      <th>6.0</th>\n",
       "      <td>ASIdataCSV60.csv</td>\n",
       "      <td>2.288713</td>\n",
       "      <td>5.565316</td>\n",
       "      <td>52.73933</td>\n",
       "    </tr>\n",
       "    <tr>\n",
       "      <th>6.5</th>\n",
       "      <td>ASIdataCSV65.csv</td>\n",
       "      <td>1.660085</td>\n",
       "      <td>4.839663</td>\n",
       "      <td>50.453167</td>\n",
       "    </tr>\n",
       "    <tr>\n",
       "      <th>7.0</th>\n",
       "      <td>ASIdataCSV70.csv</td>\n",
       "      <td>1.202119</td>\n",
       "      <td>4.416323</td>\n",
       "      <td>42.156252</td>\n",
       "    </tr>\n",
       "    <tr>\n",
       "      <th>7.5</th>\n",
       "      <td>ASIdataCSV75.csv</td>\n",
       "      <td>0.9732</td>\n",
       "      <td>3.602663</td>\n",
       "      <td>29.737461</td>\n",
       "    </tr>\n",
       "    <tr>\n",
       "      <th>8.0</th>\n",
       "      <td>ASIdataCSV80.csv</td>\n",
       "      <td>0.80581</td>\n",
       "      <td>3.196407</td>\n",
       "      <td>39.264053</td>\n",
       "    </tr>\n",
       "    <tr>\n",
       "      <th>8.5</th>\n",
       "      <td>ASIdataCSV85.csv</td>\n",
       "      <td>0.866356</td>\n",
       "      <td>3.284946</td>\n",
       "      <td>41.71135</td>\n",
       "    </tr>\n",
       "    <tr>\n",
       "      <th>9.0</th>\n",
       "      <td>ASIdataCSV90.csv</td>\n",
       "      <td>0.712113</td>\n",
       "      <td>3.22303</td>\n",
       "      <td>33.987414</td>\n",
       "    </tr>\n",
       "    <tr>\n",
       "      <th>9.5</th>\n",
       "      <td>ASIdataCSV95.csv</td>\n",
       "      <td>0.760773</td>\n",
       "      <td>3.056336</td>\n",
       "      <td>32.678706</td>\n",
       "    </tr>\n",
       "    <tr>\n",
       "      <th>10.0</th>\n",
       "      <td>ASIdataCSV100.csv</td>\n",
       "      <td>0.740925</td>\n",
       "      <td>3.582569</td>\n",
       "      <td>37.739661</td>\n",
       "    </tr>\n",
       "  </tbody>\n",
       "</table>\n",
       "</div>"
      ],
      "text/plain": [
       "              file_name median_energetic_contribution  \\\n",
       "0.0     ASIdataCSV0.csv                      4.266172   \n",
       "0.5     ASIdataCSV5.csv                      3.685512   \n",
       "1.0    ASIdataCSV10.csv                      2.927503   \n",
       "1.5    ASIdataCSV15.csv                      2.510225   \n",
       "2.0    ASIdataCSV20.csv                      2.281519   \n",
       "2.5    ASIdataCSV25.csv                      2.244332   \n",
       "3.0    ASIdataCSV30.csv                      1.856528   \n",
       "3.5    ASIdataCSV35.csv                      1.816211   \n",
       "4.0    ASIdataCSV40.csv                      1.865545   \n",
       "4.5    ASIdataCSV45.csv                      1.892202   \n",
       "5.0    ASIdataCSV50.csv                      2.299227   \n",
       "5.5    ASIdataCSV55.csv                      1.507562   \n",
       "6.0    ASIdataCSV60.csv                      2.288713   \n",
       "6.5    ASIdataCSV65.csv                      1.660085   \n",
       "7.0    ASIdataCSV70.csv                      1.202119   \n",
       "7.5    ASIdataCSV75.csv                        0.9732   \n",
       "8.0    ASIdataCSV80.csv                       0.80581   \n",
       "8.5    ASIdataCSV85.csv                      0.866356   \n",
       "9.0    ASIdataCSV90.csv                      0.712113   \n",
       "9.5    ASIdataCSV95.csv                      0.760773   \n",
       "10.0  ASIdataCSV100.csv                      0.740925   \n",
       "\n",
       "     mean_energetic_contribution max_energetic_contribution  \n",
       "0.0                     9.089664                  68.381455  \n",
       "0.5                     8.176381                  65.784603  \n",
       "1.0                     6.444756                  67.698792  \n",
       "1.5                     5.742027                  68.309756  \n",
       "2.0                     5.141057                  60.301949  \n",
       "2.5                      5.52759                  60.236676  \n",
       "3.0                       5.7741                  64.897744  \n",
       "3.5                     5.857498                  62.764642  \n",
       "4.0                     5.823866                  60.468228  \n",
       "4.5                     5.491501                  52.490034  \n",
       "5.0                     5.668365                  54.469138  \n",
       "5.5                     5.979993                  51.272376  \n",
       "6.0                     5.565316                   52.73933  \n",
       "6.5                     4.839663                  50.453167  \n",
       "7.0                     4.416323                  42.156252  \n",
       "7.5                     3.602663                  29.737461  \n",
       "8.0                     3.196407                  39.264053  \n",
       "8.5                     3.284946                   41.71135  \n",
       "9.0                      3.22303                  33.987414  \n",
       "9.5                     3.056336                  32.678706  \n",
       "10.0                    3.582569                  37.739661  "
      ]
     },
     "execution_count": 73,
     "metadata": {},
     "output_type": "execute_result"
    }
   ],
   "source": [
    "sensitive_df"
   ]
  },
  {
   "cell_type": "code",
   "execution_count": 109,
   "metadata": {},
   "outputs": [
    {
     "data": {
      "text/plain": [
       "Text(0.5, 1.0, '>50 keV Energy Flux Contribution to the total:\\n$E_{>50 \\\\ keV}/(E_{THEMIS \\\\ ASI}+E_{>50 \\\\ keV})$')"
      ]
     },
     "execution_count": 109,
     "metadata": {},
     "output_type": "execute_result"
    },
    {
     "data": {
      "image/png": "[encoded data removed]",
      "text/plain": [
       "<Figure size 640x480 with 1 Axes>"
      ]
     },
     "metadata": {},
     "output_type": "display_data"
    }
   ],
   "source": [
    "fig, bx = plt.subplots()\n",
    "bx.plot(-sensitive_df.index, sensitive_df.loc[:, 'median_energetic_contribution'], label='Median')\n",
    "bx.plot(-sensitive_df.index, sensitive_df.loc[:, 'mean_energetic_contribution'], label='Mean')\n",
    "bx.plot(-sensitive_df.index, sensitive_df.loc[:, 'max_energetic_contribution'], label='Max')\n",
    "bx.axhline(50, ls='--', c='k')\n",
    "plt.legend(ncols=3, loc=4)\n",
    "plt.yscale('log')\n",
    "plt.ylim(5e-1, 1e2)\n",
    "plt.ylabel('Contribution [%]')\n",
    "plt.xlabel(\"ELFIN's longitude offset [deg]\")\n",
    "plt.title(f'>50 keV Energy Flux Contribution to the total:\\n$E_{{>50 \\ keV}}/(E_{{THEMIS \\ ASI}}+E_{{>50 \\ keV}})$')"
   ]
  },
  {
   "cell_type": "code",
   "execution_count": null,
   "metadata": {},
   "outputs": [],
   "source": []
  }
 ],
 "metadata": {
  "kernelspec": {
   "display_name": "asilib_dev_20241108",
   "language": "python",
   "name": "python3"
  },
  "language_info": {
   "codemirror_mode": {
    "name": "ipython",
    "version": 3
   },
   "file_extension": ".py",
   "mimetype": "text/x-python",
   "name": "python",
   "nbconvert_exporter": "python",
   "pygments_lexer": "ipython3",
   "version": "3.11.3"
  }
 },
 "nbformat": 4,
 "nbformat_minor": 2
}
